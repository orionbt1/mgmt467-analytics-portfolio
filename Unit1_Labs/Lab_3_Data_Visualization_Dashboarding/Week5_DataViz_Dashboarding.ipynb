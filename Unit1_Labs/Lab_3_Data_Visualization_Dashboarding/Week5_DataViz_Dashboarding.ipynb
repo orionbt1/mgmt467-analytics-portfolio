{
  "nbformat": 4,
  "nbformat_minor": 5,
  "metadata": {
    "colab": {
      "provenance": [],
      "toc_visible": true,
      "include_colab_link": true
    },
    "kernelspec": {
      "name": "python3",
      "display_name": "Python 3"
    },
    "language_info": {
      "name": "python",
      "version": "3.x"
    }
  },
  "cells": [
    {
      "cell_type": "markdown",
      "metadata": {
        "id": "view-in-github",
        "colab_type": "text"
      },
      "source": [
        "<a href=\"https://colab.research.google.com/github/orionbt1/mgmt467-analytics-portfolio/blob/main/Unit1_Labs/Lab_3_Data_Visualization_Dashboarding/Week5_DataViz_Dashboarding.ipynb\" target=\"_parent\"><img src=\"https://colab.research.google.com/assets/colab-badge.svg\" alt=\"Open In Colab\"/></a>"
      ]
    },
    {
      "cell_type": "markdown",
      "metadata": {
        "id": "title"
      },
      "source": [
        "# MGMT 467 — Week 5: Data Visualization & Dashboarding\n",
        "\n",
        "Instructor: **Prof. Alok R. Chaturvedi**  \n",
        "Modality: **Guided Inquiry (Tuesday)** + **Hands-on Lab (Thursday)**  \n",
        "Prepared: 2025-09-23  \n",
        "\n",
        "---\n",
        "### Learning Objectives\n",
        "1. Distinguish **exploratory** vs **explanatory** visualization.  \n",
        "2. Match common **chart types** to the **questions** they answer.  \n",
        "3. Design **airline KPIs** and select appropriate visuals.  \n",
        "4. Use **Gemini** to generate Matplotlib/Seaborn code in Colab.  \n",
        "5. Build an **interactive dashboard** in Looker Studio using BigQuery/CSV.\n"
      ],
      "id": "title"
    },
    {
      "cell_type": "markdown",
      "metadata": {
        "id": "tuesday-header"
      },
      "source": [
        "## Tuesday (Concepts) — Guided Inquiry\n",
        "\n",
        "**Instructions:** Answer directly in this notebook. Use short paragraphs and bullet points. When helpful, sketch chart ideas using ASCII or quick scribbles.\n",
        "\n",
        "### Q1 — Exploratory vs. Explanatory\n",
        "**Prompt:** *\"Explain the difference between exploratory and explanatory visualization.\"*  \n",
        "**Hints:** Consider audience, purpose, level of polish, and how much iteration you expect.\n",
        "\n",
        "📝 **Your response:**\n",
        "\n",
        "-\n",
        "-\n",
        "-\n",
        "\n",
        "---\n",
        "### Q2 — Chart Types & When to Use Them\n",
        "**Prompt:** *\"Describe 5 common chart types (e.g., bar, line, scatter, histogram, map) and the type of data analysis question each is best suited to answer.\"*  \n",
        "\n",
        "For each chart, list: **Question archetype**, **Data shape**, **Pitfalls**, **Alternatives**.\n",
        "\n",
        "📝 **Your response (template):**\n",
        "1. **Bar:**  \n",
        "   - Question archetype:  \n",
        "   - Data shape:  \n",
        "   - Pitfalls:  \n",
        "   - Alternatives:  \n",
        "2. **Line:**  \n",
        "3. **Scatter:**  \n",
        "4. **Histogram:**  \n",
        "5. **Map:**  \n",
        "\n",
        "---\n",
        "### Q3 — Airline Executive Dashboard KPIs\n",
        "**Prompt:** *\"Your goal is to create a dashboard for an airline executive. Brainstorm 5 Key Performance Indicators (KPIs) that should be on this dashboard. For each KPI, suggest the best chart type to visualize it.\"*\n",
        "\n",
        "Suggested KPI ideas to consider (customize them): On-Time Rate, Average Delay Minutes, Cancellation Rate, Load Factor, Yield (Revenue per Passenger Mile), Completion Factor, Net Promoter Score (if available), Revenue, Cost per Available Seat Mile (CASM).\n",
        "\n",
        "📝 **Your response (template):**\n",
        "1. KPI:  \n",
        "   - Why it matters:  \n",
        "   - Best chart:  \n",
        "   - Drill-down fields:  \n",
        "2. KPI:  \n",
        "3. KPI:  \n",
        "4. KPI:  \n",
        "5. KPI:  \n"
      ],
      "id": "tuesday-header"
    },
    {
      "cell_type": "markdown",
      "metadata": {
        "id": "gemini-setup"
      },
      "source": [
        "---\n",
        "## Thursday (Practice) — Colab, Gemini, & Looker Studio\n",
        "\n",
        "You will:\n",
        "1) Use **Gemini** in Colab to generate visualization code (Matplotlib/Seaborn).  \n",
        "2) Use a **synthetic airline dataset** (provided below) *or* connect your own BigQuery data.  \n",
        "3) Build a **Looker Studio** dashboard for your KPIs.\n",
        "\n",
        "### Option A — Use Gemini Side Panel in Colab\n",
        "Open the **Gemini** side panel in Colab (\"Extensions\" or the right sidebar). Ask it to generate Python code given your prompts and the DataFrame you have in memory. Paste/execute the generated code in new cells.\n",
        "\n",
        "### Option B — Programmatic Gemini (optional)\n",
        "If you prefer code, you can install the Generative AI SDK and call Gemini with an API key. (We will not store keys in this notebook.)\n",
        "\n",
        "> **Reminder:** This course emphasizes **AI-assisted coding**—focus on specifying *clear prompts* and then **reviewing and editing** the generated code for correctness, readability, and ethics.\n"
      ],
      "id": "gemini-setup"
    },
    {
      "cell_type": "code",
      "metadata": {
        "id": "env-setup"
      },
      "source": [
        "# (Optional) Environment setup — run if needed\n",
        "%%capture\n",
        "!pip install pandas numpy matplotlib seaborn pyarrow db-dtypes google-cloud-bigquery -q\n",
        "\n",
        "import pandas as pd\n",
        "import numpy as np\n",
        "import matplotlib.pyplot as plt\n",
        "import seaborn as sns\n",
        "from datetime import datetime, timedelta\n",
        "np.random.seed(42)\n",
        "print('✅ Environment ready')"
      ],
      "id": "env-setup",
      "execution_count": null,
      "outputs": []
    },
    {
      "cell_type": "markdown",
      "metadata": {
        "id": "synthetic-data-header"
      },
      "source": [
        "### Create a Synthetic Airline Dataset (if you don't have one)\n",
        "Use this dataset to prototype visualizations and dashboards. It contains realistic columns for the KPIs you defined. You can always swap in your BigQuery data later.\n"
      ],
      "id": "synthetic-data-header"
    },
    {
      "cell_type": "code",
      "metadata": {
        "id": "synthetic-data-gen"
      },
      "source": [
        "# Generate a synthetic airline dataset\n",
        "import pandas as pd\n",
        "import numpy as np\n",
        "from datetime import datetime, timedelta\n",
        "\n",
        "np.random.seed(467)\n",
        "\n",
        "dates = pd.date_range(start='2024-01-01', end='2024-06-30', freq='D')\n",
        "carriers = ['AA', 'DL', 'UA', 'WN', 'AS']\n",
        "origins = ['ATL','DFW','DEN','ORD','LAX','SEA','SFO','PHX','CLT','MCO']\n",
        "dests =   ['JFK','LGA','BOS','SFO','LAX','SEA','MIA','IAH','IAD','PHL']\n",
        "\n",
        "rows = []\n",
        "for d in dates:\n",
        "    for carrier in carriers:\n",
        "        # number of flights per day per carrier\n",
        "        n = np.random.randint(80, 140)\n",
        "        for _ in range(n):\n",
        "            o = np.random.choice(origins)\n",
        "            de = np.random.choice(dests)\n",
        "            if o == de:\n",
        "                continue\n",
        "            distance = np.random.randint(300, 2800)\n",
        "            seats = np.random.choice([90,120,150,180,210])\n",
        "            load_factor = np.clip(np.random.normal(0.82, 0.07), 0.55, 0.98)\n",
        "            pax = int(seats * load_factor)\n",
        "            dep_delay = int(np.random.normal(8, 15))\n",
        "            arr_delay = dep_delay + int(np.random.normal(0, 12))\n",
        "            dep_delay = max(dep_delay, -5)\n",
        "            arr_delay = max(arr_delay, -10)\n",
        "            cancelled = np.random.rand() < 0.025\n",
        "            diverted = np.random.rand() < 0.005\n",
        "            revenue = pax * np.random.uniform(120, 420)\n",
        "            casm = np.random.uniform(0.08, 0.16)  # cost per available seat mile\n",
        "            cost = casm * seats * distance\n",
        "            fuel_burn = distance * np.random.uniform(3.0, 4.5)  # gallons per seat-mile proxy\n",
        "            nps = np.random.normal(35, 15)  # if you want a customer metric proxy\n",
        "            rows.append({\n",
        "                'date': d,\n",
        "                'carrier': carrier,\n",
        "                'origin': o,\n",
        "                'dest': de,\n",
        "                'distance_miles': distance,\n",
        "                'seats': seats,\n",
        "                'passengers': pax,\n",
        "                'dep_delay_min': dep_delay,\n",
        "                'arr_delay_min': arr_delay,\n",
        "                'cancelled': int(cancelled),\n",
        "                'diverted': int(diverted),\n",
        "                'revenue_usd': round(revenue, 2),\n",
        "                'cost_usd': round(cost, 2),\n",
        "                'fuel_burn_gal': round(fuel_burn, 1),\n",
        "                'nps': round(nps, 1)\n",
        "            })\n",
        "\n",
        "df_flights = pd.DataFrame(rows)\n",
        "\n",
        "# Derived KPIs\n",
        "df_flights['on_time'] = (df_flights['arr_delay_min'] <= 15).astype(int)\n",
        "df_flights['load_factor'] = (df_flights['passengers'] / df_flights['seats']).round(3)\n",
        "df_flights['yield_usd_per_pax_mile'] = (df_flights['revenue_usd'] / (df_flights['passengers'] * df_flights['distance_miles']).clip(lower=1)).round(4)\n",
        "df_flights['asm'] = df_flights['seats'] * df_flights['distance_miles']  # available seat miles\n",
        "df_flights['casm'] = (df_flights['cost_usd'] / df_flights['asm']).round(4)\n",
        "df_flights['month'] = df_flights['date'].dt.to_period('M').astype(str)\n",
        "\n",
        "df_flights.head()"
      ],
      "id": "synthetic-data-gen",
      "execution_count": null,
      "outputs": []
    },
    {
      "cell_type": "markdown",
      "metadata": {
        "id": "gemini-prompts-header"
      },
      "source": [
        "### Use Gemini to Generate Visualization Code\n",
        "Copy/paste these **prompts** into Gemini (Colab side panel). After it generates code, paste it into a new cell and run. **Inspect and fix** anything that looks off.\n",
        "\n",
        "#### Prompt A — On-Time Rate by Carrier (Bar Chart)\n",
        "```\n",
        "You are a Python data viz expert. Given a pandas DataFrame `df_flights` with columns including `carrier` and `on_time` (1/0), write Matplotlib/Seaborn code to compute and plot **On-Time Rate by carrier** as a sorted bar chart with percentage labels on bars. Use a clean style, readable labels, and tight layout. Do not use Plotly.\n",
        "```\n",
        "\n",
        "#### Prompt B — Average Arrival Delay over Time (Line Chart)\n",
        "```\n",
        "Given `df_flights` with `date` (datetime) and `arr_delay_min`, write code to aggregate to daily average arrival delay and plot a **line chart** with a 7-day rolling average overlay. Add axis labels, title, and grid.\n",
        "```\n",
        "\n",
        "#### Prompt C — Delay Distribution (Histogram)\n",
        "```\n",
        "Given `df_flights` with `arr_delay_min`, write code to plot a **histogram** of arrival delays with appropriate bins, a vertical reference line at 0, and annotate percent of flights within [-5, 15] minutes.\n",
        "```\n",
        "\n",
        "#### Prompt D — Load Factor by Route (Top 15) (Horizontal Bar)\n",
        "```\n",
        "Given `df_flights` with `origin`, `dest`, and `load_factor`, compute mean load factor by route (origin-dest pair), take the top 15 routes by average load factor, and plot a **horizontal bar chart**. Ensure long labels are readable.\n",
        "```\n",
        "\n",
        "#### Prompt E — Cost vs. Revenue with CASM Coloring (Scatter)\n",
        "```\n",
        "Given `df_flights` with `cost_usd`, `revenue_usd`, and `casm`, produce a **scatter plot** of cost vs. revenue with points colored by `casm` (continuous colormap) and add a diagonal y=x reference line. Include labels and legend.\n",
        "```\n"
      ],
      "id": "gemini-prompts-header"
    },
    {
      "cell_type": "markdown",
      "metadata": {
        "id": "bigquery-optional"
      },
      "source": [
        "### (Optional) Bring Your Own BigQuery Data\n",
        "If you have airline or operations data in BigQuery, you may connect from Colab. Otherwise, skip to the **Export & Looker Studio** section.\n",
        "\n",
        "**Auth & Client Setup (run in Colab):**\n",
        "```python\n",
        "from google.colab import auth\n",
        "auth.authenticate_user()\n",
        "print('✅ Authenticated')\n",
        "\n",
        "from google.cloud import bigquery\n",
        "client = bigquery.Client(project='YOUR_PROJECT_ID')\n",
        "```\n",
        "\n",
        "**Example Query Skeleton:**\n",
        "```sql\n",
        "SELECT date, carrier, origin, dest, distance_miles, seats, passengers,\n",
        "       dep_delay_min, arr_delay_min, cancelled, diverted, revenue_usd, cost_usd\n",
        "FROM `your_dataset.your_table`\n",
        "WHERE date BETWEEN '2024-01-01' AND '2024-06-30'\n",
        "```\n",
        "\n",
        "Load to pandas:\n",
        "```python\n",
        "query = \"\"\"\n",
        "-- paste your SQL here\n",
        "\"\"\"\n",
        "df_bq = client.query(query).to_dataframe()\n",
        "df_bq.head()\n",
        "```\n",
        "\n",
        "Unify columns with the synthetic schema if you want to reuse prompts/plots:\n",
        "```python\n",
        "# Example: ensure `on_time`, `load_factor`, and `casm` exist if needed\n",
        "df_bq['on_time'] = (df_bq['arr_delay_min'] <= 15).astype(int)\n",
        "df_bq['load_factor'] = (df_bq['passengers'] / df_bq['seats']).round(3)\n",
        "df_bq['asm'] = df_bq['seats'] * df_bq['distance_miles']\n",
        "df_bq['casm'] = (df_bq['cost_usd'] / df_bq['asm']).round(4)\n",
        "```\n"
      ],
      "id": "bigquery-optional"
    },
    {
      "cell_type": "markdown",
      "metadata": {
        "id": "export-header"
      },
      "source": [
        "### Export for Looker Studio\n",
        "You can **export to CSV** and upload to Looker Studio, or you can **publish to BigQuery** and connect Looker Studio to that table.\n",
        "\n",
        "#### Option 1 — Export CSV\n",
        "Run one of the cells below to save a CSV in Colab, then download it or save to Drive.\n"
      ],
      "id": "export-header"
    },
    {
      "cell_type": "code",
      "metadata": {
        "id": "export-csv-local"
      },
      "source": [
        "# Save synthetic dataset to CSV\n",
        "df_flights.to_csv('airline_kpis_synthetic.csv', index=False)\n",
        "print('📁 Saved: airline_kpis_synthetic.csv (download from the file browser on the left)')"
      ],
      "id": "export-csv-local",
      "execution_count": null,
      "outputs": []
    },
    {
      "cell_type": "markdown",
      "metadata": {
        "id": "export-bq"
      },
      "source": [
        "#### Option 2 — Write to BigQuery (optional)\n",
        "If you prefer Looker Studio → BigQuery:\n",
        "\n",
        "```python\n",
        "from google.cloud import bigquery\n",
        "from google.oauth2 import service_account  # or use Colab auth\n",
        "\n",
        "client = bigquery.Client(project='YOUR_PROJECT_ID')\n",
        "table_id = 'YOUR_PROJECT_ID.YOUR_DATASET.airline_kpis_synthetic'\n",
        "job = client.load_table_from_dataframe(df_flights, table_id)\n",
        "job.result()\n",
        "print('✅ Loaded to BigQuery:', table_id)\n",
        "```\n",
        "\n",
        "**In Looker Studio:**\n",
        "1. Create → Report → Add data → **BigQuery**.  \n",
        "2. Select your project/dataset/table.  \n",
        "3. Add charts for each KPI and configure filters (carrier, route, month).\n"
      ],
      "id": "export-bq"
    },
    {
      "cell_type": "markdown",
      "metadata": {
        "id": "dashboard-wireframe"
      },
      "source": [
        "### Dashboard Wireframe (Design First)\n",
        "Sketch your intended layout before building it in Looker Studio.\n",
        "\n",
        "```\n",
        "+-----------------------------------------------------------+\n",
        "| Filters: Carrier [AA/DL/UA/WN/AS] | Month [Jan–Jun]       |\n",
        "+-----------------------------------------------------------+\n",
        "| KPI Cards: On-Time % | Avg Delay | Cancel % | Load Factor |\n",
        "+-------------------------------+---------------------------+\n",
        "| Line: Avg Delay over Time     | Bar: On-Time % by Carrier |\n",
        "+-------------------------------+---------------------------+\n",
        "| H-Bar: Top Routes by LF       | Scatter: Cost vs Revenue  |\n",
        "+-----------------------------------------------------------+\n",
        "```\n"
      ],
      "id": "dashboard-wireframe"
    },
    {
      "cell_type": "markdown",
      "metadata": {
        "id": "reflection"
      },
      "source": [
        "## Reflection & Submission\n",
        "\n",
        "**Short Reflection (3–5 sentences):** What design decision most improved your dashboard’s clarity? What would you change next?\n",
        "\n",
        "📝 **Your response:**\n",
        "-\n",
        "-\n",
        "\n",
        "---\n",
        "### Checklist\n",
        "- [ ] Q1–Q3 answered in Tuesday section  \n",
        "- [ ] 3–5 visualizations generated with **Gemini** in Colab  \n",
        "- [ ] Synthetic or BigQuery data connected to **Looker Studio**  \n",
        "- [ ] Dashboard with **filters** and **KPI cards**  \n",
        "- [ ] Reflection complete  \n"
      ],
      "id": "reflection"
    }
  ]
}