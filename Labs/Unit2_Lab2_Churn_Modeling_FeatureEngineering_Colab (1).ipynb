{
  "cells": [
    {
      "cell_type": "markdown",
      "id": "5869f3af",
      "metadata": {
        "id": "5869f3af"
      },
      "source": [
        "# 📊 MGMT 467 - Unit 2 Lab 2: Churn Modeling with BigQueryML + Feature Engineering\n",
        "**Date:** 2025-10-16\n",
        "\n",
        "In this lab you will:\n",
        "- Connect to BigQuery from Colab\n",
        "- Create features and labels\n",
        "- Engineer new features from user behavior\n",
        "- Train and evaluate logistic regression models\n",
        "- Reflect on modeling assumptions and interpret results"
      ]
    },
    {
      "cell_type": "code",
      "execution_count": 1,
      "id": "305da483",
      "metadata": {
        "colab": {
          "base_uri": "https://localhost:8080/"
        },
        "id": "305da483",
        "outputId": "ceccb93c-8595-4484-b1d2-e708410ef6cb"
      },
      "outputs": [
        {
          "output_type": "stream",
          "name": "stdout",
          "text": [
            "Updated property [core/project].\n"
          ]
        }
      ],
      "source": [
        "# ✅ Authenticate and set up GCP project\n",
        "from google.colab import auth\n",
        "auth.authenticate_user()\n",
        "\n",
        "project_id = \"mgmt467-471819\"  # <-- Replace with your actual project ID\n",
        "!gcloud config set project $project_id"
      ]
    },
    {
      "cell_type": "code",
      "execution_count": 2,
      "id": "08a79119",
      "metadata": {
        "colab": {
          "base_uri": "https://localhost:8080/",
          "height": 145,
          "referenced_widgets": [
            "c2ded84a3a7c4a92bdee737bd80f046d",
            "631080c4b6bd4689adcdd144dbea8798",
            "5f6ba91e3062466c8561d3388a3579c3",
            "2ace3c19aff646bca0d1a9dc84a2ad85",
            "076fb021e8824f269531a39fa3c67ef5",
            "c69a0bea05cb48abbea37bff2a25c19c",
            "8797da9241dd4634867c58833b3df104",
            "eded72fad0c14db598c7d82fa6834722",
            "8ca66ef644374fd4b730b9c2e6bf4a0a",
            "6bcf1beac4e34155adcf08d1b47d23dd",
            "a39e7a62979f4f8dbc76114f6275af57",
            "dd6dc0cc564f4c1eb10ca2d13efbe13a",
            "ad8cda9457e34ebebf4805b4e2b39eac",
            "4ee7546df7fe4f859d298571985abedd",
            "20b7d6ea63f543469392b27b4a46aad6",
            "86a03a00c3c848bf8bc89560130e3f4f",
            "9cefb4ee97d6433a8fe57706b2b135b0",
            "3649d48a5bad40ebae9dbe92fbdb1b41",
            "ce60e34c8f2f4801a2c5fa55bb2702da",
            "cb2f5d068e16466d97c98d1891ec5c35",
            "41e33d5173bc41bdb35767f4bba9684c",
            "e086bfc39f1f4e26ad6be24428a1d9a5"
          ]
        },
        "id": "08a79119",
        "outputId": "9054d69f-4fb5-42d9-a0ef-68c346b13134"
      },
      "outputs": [
        {
          "output_type": "display_data",
          "data": {
            "text/plain": [
              "Query is running:   0%|          |"
            ],
            "application/vnd.jupyter.widget-view+json": {
              "version_major": 2,
              "version_minor": 0,
              "model_id": "c2ded84a3a7c4a92bdee737bd80f046d"
            }
          },
          "metadata": {}
        },
        {
          "output_type": "display_data",
          "data": {
            "text/plain": [
              "Downloading:   0%|          |"
            ],
            "application/vnd.jupyter.widget-view+json": {
              "version_major": 2,
              "version_minor": 0,
              "model_id": "dd6dc0cc564f4c1eb10ca2d13efbe13a"
            }
          },
          "metadata": {}
        },
        {
          "output_type": "execute_result",
          "data": {
            "text/plain": [
              "        today               user\n",
              "0  2025-10-27  orion@tzannes.net"
            ],
            "text/html": [
              "\n",
              "  <div id=\"df-f7f9bba2-b080-42dc-8a9e-12599aea086f\" class=\"colab-df-container\">\n",
              "    <div>\n",
              "<style scoped>\n",
              "    .dataframe tbody tr th:only-of-type {\n",
              "        vertical-align: middle;\n",
              "    }\n",
              "\n",
              "    .dataframe tbody tr th {\n",
              "        vertical-align: top;\n",
              "    }\n",
              "\n",
              "    .dataframe thead th {\n",
              "        text-align: right;\n",
              "    }\n",
              "</style>\n",
              "<table border=\"1\" class=\"dataframe\">\n",
              "  <thead>\n",
              "    <tr style=\"text-align: right;\">\n",
              "      <th></th>\n",
              "      <th>today</th>\n",
              "      <th>user</th>\n",
              "    </tr>\n",
              "  </thead>\n",
              "  <tbody>\n",
              "    <tr>\n",
              "      <th>0</th>\n",
              "      <td>2025-10-27</td>\n",
              "      <td>orion@tzannes.net</td>\n",
              "    </tr>\n",
              "  </tbody>\n",
              "</table>\n",
              "</div>\n",
              "    <div class=\"colab-df-buttons\">\n",
              "\n",
              "  <div class=\"colab-df-container\">\n",
              "    <button class=\"colab-df-convert\" onclick=\"convertToInteractive('df-f7f9bba2-b080-42dc-8a9e-12599aea086f')\"\n",
              "            title=\"Convert this dataframe to an interactive table.\"\n",
              "            style=\"display:none;\">\n",
              "\n",
              "  <svg xmlns=\"http://www.w3.org/2000/svg\" height=\"24px\" viewBox=\"0 -960 960 960\">\n",
              "    <path d=\"M120-120v-720h720v720H120Zm60-500h600v-160H180v160Zm220 220h160v-160H400v160Zm0 220h160v-160H400v160ZM180-400h160v-160H180v160Zm440 0h160v-160H620v160ZM180-180h160v-160H180v160Zm440 0h160v-160H620v160Z\"/>\n",
              "  </svg>\n",
              "    </button>\n",
              "\n",
              "  <style>\n",
              "    .colab-df-container {\n",
              "      display:flex;\n",
              "      gap: 12px;\n",
              "    }\n",
              "\n",
              "    .colab-df-convert {\n",
              "      background-color: #E8F0FE;\n",
              "      border: none;\n",
              "      border-radius: 50%;\n",
              "      cursor: pointer;\n",
              "      display: none;\n",
              "      fill: #1967D2;\n",
              "      height: 32px;\n",
              "      padding: 0 0 0 0;\n",
              "      width: 32px;\n",
              "    }\n",
              "\n",
              "    .colab-df-convert:hover {\n",
              "      background-color: #E2EBFA;\n",
              "      box-shadow: 0px 1px 2px rgba(60, 64, 67, 0.3), 0px 1px 3px 1px rgba(60, 64, 67, 0.15);\n",
              "      fill: #174EA6;\n",
              "    }\n",
              "\n",
              "    .colab-df-buttons div {\n",
              "      margin-bottom: 4px;\n",
              "    }\n",
              "\n",
              "    [theme=dark] .colab-df-convert {\n",
              "      background-color: #3B4455;\n",
              "      fill: #D2E3FC;\n",
              "    }\n",
              "\n",
              "    [theme=dark] .colab-df-convert:hover {\n",
              "      background-color: #434B5C;\n",
              "      box-shadow: 0px 1px 3px 1px rgba(0, 0, 0, 0.15);\n",
              "      filter: drop-shadow(0px 1px 2px rgba(0, 0, 0, 0.3));\n",
              "      fill: #FFFFFF;\n",
              "    }\n",
              "  </style>\n",
              "\n",
              "    <script>\n",
              "      const buttonEl =\n",
              "        document.querySelector('#df-f7f9bba2-b080-42dc-8a9e-12599aea086f button.colab-df-convert');\n",
              "      buttonEl.style.display =\n",
              "        google.colab.kernel.accessAllowed ? 'block' : 'none';\n",
              "\n",
              "      async function convertToInteractive(key) {\n",
              "        const element = document.querySelector('#df-f7f9bba2-b080-42dc-8a9e-12599aea086f');\n",
              "        const dataTable =\n",
              "          await google.colab.kernel.invokeFunction('convertToInteractive',\n",
              "                                                    [key], {});\n",
              "        if (!dataTable) return;\n",
              "\n",
              "        const docLinkHtml = 'Like what you see? Visit the ' +\n",
              "          '<a target=\"_blank\" href=https://colab.research.google.com/notebooks/data_table.ipynb>data table notebook</a>'\n",
              "          + ' to learn more about interactive tables.';\n",
              "        element.innerHTML = '';\n",
              "        dataTable['output_type'] = 'display_data';\n",
              "        await google.colab.output.renderOutput(dataTable, element);\n",
              "        const docLink = document.createElement('div');\n",
              "        docLink.innerHTML = docLinkHtml;\n",
              "        element.appendChild(docLink);\n",
              "      }\n",
              "    </script>\n",
              "  </div>\n",
              "\n",
              "\n",
              "    </div>\n",
              "  </div>\n"
            ],
            "application/vnd.google.colaboratory.intrinsic+json": {
              "type": "dataframe",
              "summary": "{\n  \"name\": \"get_ipython()\",\n  \"rows\": 1,\n  \"fields\": [\n    {\n      \"column\": \"today\",\n      \"properties\": {\n        \"dtype\": \"dbdate\",\n        \"num_unique_values\": 1,\n        \"samples\": [\n          \"2025-10-27\"\n        ],\n        \"semantic_type\": \"\",\n        \"description\": \"\"\n      }\n    },\n    {\n      \"column\": \"user\",\n      \"properties\": {\n        \"dtype\": \"string\",\n        \"num_unique_values\": 1,\n        \"samples\": [\n          \"orion@tzannes.net\"\n        ],\n        \"semantic_type\": \"\",\n        \"description\": \"\"\n      }\n    }\n  ]\n}"
            }
          },
          "metadata": {},
          "execution_count": 2
        }
      ],
      "source": [
        "# ✅ Verify BigQuery access\n",
        "%%bigquery --project $project_id\n",
        "SELECT CURRENT_DATE() AS today, SESSION_USER() AS user"
      ]
    },
    {
      "cell_type": "code",
      "execution_count": 3,
      "id": "4ef5701f",
      "metadata": {
        "colab": {
          "base_uri": "https://localhost:8080/"
        },
        "id": "4ef5701f",
        "outputId": "21869c69-2dd9-41a9-9be2-7fd0ab74ec5c"
      },
      "outputs": [
        {
          "output_type": "stream",
          "name": "stdout",
          "text": [
            "Executing query with job ID: 367ac43c-d6f3-444f-83e8-ca64ce9b84ac\n",
            "\rQuery executing: 0.36s"
          ]
        },
        {
          "output_type": "stream",
          "name": "stderr",
          "text": [
            "\n",
            "ERROR:\n",
            " 404 Not found: Dataset mgmt467-471819:your_dataset was not found in location US; reason: notFound, message: Not found: Dataset mgmt467-471819:your_dataset was not found in location US\n",
            "\n",
            "Location: US\n",
            "Job ID: 367ac43c-d6f3-444f-83e8-ca64ce9b84ac\n",
            "\n"
          ]
        }
      ],
      "source": [
        "# ✅ Prepare base churn features\n",
        "%%bigquery --project $project_id\n",
        "CREATE OR REPLACE TABLE `your_dataset.churn_features` AS\n",
        "SELECT\n",
        "  user_id,\n",
        "  region,\n",
        "  plan_tier,\n",
        "  age_band,\n",
        "  avg_rating,\n",
        "  total_minutes,\n",
        "  avg_progress,\n",
        "  num_sessions,\n",
        "  churn_label\n",
        "FROM `your_dataset.cleaned_features`\n",
        "WHERE churn_label IS NOT NULL;"
      ]
    },
    {
      "cell_type": "code",
      "execution_count": 4,
      "id": "a3ce2cc5",
      "metadata": {
        "colab": {
          "base_uri": "https://localhost:8080/"
        },
        "id": "a3ce2cc5",
        "outputId": "c75cfb18-facb-4194-fb13-fb83492af4bc"
      },
      "outputs": [
        {
          "output_type": "stream",
          "name": "stdout",
          "text": [
            "Executing query with job ID: 52c0e0c6-2929-432a-9466-ba65aaa99aea\n",
            "\rQuery executing: 0.31s"
          ]
        },
        {
          "output_type": "stream",
          "name": "stderr",
          "text": [
            "\n",
            "ERROR:\n",
            " 404 Not found: Dataset mgmt467-471819:your_dataset was not found in location US; reason: notFound, message: Not found: Dataset mgmt467-471819:your_dataset was not found in location US\n",
            "\n",
            "Location: US\n",
            "Job ID: 52c0e0c6-2929-432a-9466-ba65aaa99aea\n",
            "\n"
          ]
        }
      ],
      "source": [
        "# ✅ Train base logistic regression model\n",
        "%%bigquery --project $project_id\n",
        "CREATE OR REPLACE MODEL `your_dataset.churn_model`\n",
        "OPTIONS(model_type='logistic_reg') AS\n",
        "SELECT\n",
        "  region,\n",
        "  plan_tier,\n",
        "  age_band,\n",
        "  avg_rating,\n",
        "  total_minutes,\n",
        "  avg_progress,\n",
        "  num_sessions,\n",
        "  churn_label\n",
        "FROM `your_dataset.churn_features`;"
      ]
    },
    {
      "cell_type": "code",
      "execution_count": 5,
      "id": "69fc3475",
      "metadata": {
        "colab": {
          "base_uri": "https://localhost:8080/"
        },
        "id": "69fc3475",
        "outputId": "affcfa7c-42f0-4ad2-e970-63a4aa9739fe"
      },
      "outputs": [
        {
          "output_type": "stream",
          "name": "stdout",
          "text": [
            "Executing query with job ID: 63d1b2ac-4fdd-4e54-ba8d-f20bacabcfc9\n",
            "\rQuery executing: 0.41s"
          ]
        },
        {
          "output_type": "stream",
          "name": "stderr",
          "text": [
            "\n",
            "ERROR:\n",
            " 404 Not found: Dataset mgmt467-471819:your_dataset was not found in location US; reason: notFound, message: Not found: Dataset mgmt467-471819:your_dataset was not found in location US\n",
            "\n",
            "Location: US\n",
            "Job ID: 63d1b2ac-4fdd-4e54-ba8d-f20bacabcfc9\n",
            "\n"
          ]
        }
      ],
      "source": [
        "# ✅ Evaluate base model\n",
        "%%bigquery --project $project_id\n",
        "SELECT *\n",
        "FROM ML.EVALUATE(MODEL `your_dataset.churn_model`);"
      ]
    },
    {
      "cell_type": "code",
      "execution_count": 6,
      "id": "ddceee25",
      "metadata": {
        "colab": {
          "base_uri": "https://localhost:8080/"
        },
        "id": "ddceee25",
        "outputId": "ea848bd0-d421-48cc-fb44-878c60682e77"
      },
      "outputs": [
        {
          "output_type": "stream",
          "name": "stdout",
          "text": [
            "Executing query with job ID: 6ae57f03-9306-429f-bac8-2e2c7c21020c\n",
            "\rQuery executing: 0.48s"
          ]
        },
        {
          "output_type": "stream",
          "name": "stderr",
          "text": [
            "\n",
            "ERROR:\n",
            " 404 Not found: Dataset mgmt467-471819:your_dataset was not found in location US; reason: notFound, message: Not found: Dataset mgmt467-471819:your_dataset was not found in location US\n",
            "\n",
            "Location: US\n",
            "Job ID: 6ae57f03-9306-429f-bac8-2e2c7c21020c\n",
            "\n"
          ]
        }
      ],
      "source": [
        "# ✅ Predict churn with base model\n",
        "%%bigquery --project $project_id\n",
        "SELECT\n",
        "  user_id,\n",
        "  predicted_churn_label,\n",
        "  predicted_churn_label_probs\n",
        "FROM ML.PREDICT(MODEL `your_dataset.churn_model`,\n",
        "                (SELECT * FROM `your_dataset.churn_features`));"
      ]
    },
    {
      "cell_type": "markdown",
      "id": "3718b255",
      "metadata": {
        "id": "3718b255"
      },
      "source": [
        "\n",
        "## 🛠️ Feature Engineering Section\n",
        "\n",
        "We will now engineer new features to improve model performance:\n",
        "\n",
        "- Bucket continuous variables\n",
        "- Create interaction terms\n",
        "- Add behavioral flags\n"
      ]
    },
    {
      "cell_type": "code",
      "execution_count": 7,
      "id": "272f675d",
      "metadata": {
        "colab": {
          "base_uri": "https://localhost:8080/"
        },
        "id": "272f675d",
        "outputId": "2a2682a8-f091-4394-c00a-7c6b54ddf3d1"
      },
      "outputs": [
        {
          "output_type": "stream",
          "name": "stdout",
          "text": [
            "Executing query with job ID: eef899b3-2004-403f-ad03-13b2c31eb33a\n",
            "\rQuery executing: 0.42s"
          ]
        },
        {
          "output_type": "stream",
          "name": "stderr",
          "text": [
            "\n",
            "ERROR:\n",
            " 404 Not found: Dataset mgmt467-471819:your_dataset was not found in location US; reason: notFound, message: Not found: Dataset mgmt467-471819:your_dataset was not found in location US\n",
            "\n",
            "Location: US\n",
            "Job ID: eef899b3-2004-403f-ad03-13b2c31eb33a\n",
            "\n"
          ]
        }
      ],
      "source": [
        "\n",
        "# ✅ Create enhanced feature set\n",
        "%%bigquery --project $project_id\n",
        "CREATE OR REPLACE TABLE `your_dataset.churn_features_enhanced` AS\n",
        "SELECT\n",
        "  user_id,\n",
        "  region,\n",
        "  plan_tier,\n",
        "  age_band,\n",
        "  avg_rating,\n",
        "  total_minutes,\n",
        "  CASE\n",
        "    WHEN total_minutes < 100 THEN 'low'\n",
        "    WHEN total_minutes BETWEEN 100 AND 300 THEN 'medium'\n",
        "    ELSE 'high'\n",
        "  END AS watch_time_bucket,\n",
        "  avg_progress,\n",
        "  num_sessions,\n",
        "  CONCAT(plan_tier, '_', region) AS plan_region_combo,\n",
        "  IF(total_minutes > 500, 1, 0) AS flag_binge,\n",
        "  churn_label\n",
        "FROM `your_dataset.churn_features`;\n"
      ]
    },
    {
      "cell_type": "code",
      "execution_count": 8,
      "id": "07d70fe5",
      "metadata": {
        "colab": {
          "base_uri": "https://localhost:8080/"
        },
        "id": "07d70fe5",
        "outputId": "d3d881a0-fc9e-4a89-8b1e-9d353e95e184"
      },
      "outputs": [
        {
          "output_type": "stream",
          "name": "stdout",
          "text": [
            "Executing query with job ID: c5930adc-06a2-46f1-b885-fd8d2c8bc680\n",
            "\rQuery executing: 0.27s"
          ]
        },
        {
          "output_type": "stream",
          "name": "stderr",
          "text": [
            "\n",
            "ERROR:\n",
            " 404 Not found: Dataset mgmt467-471819:your_dataset was not found in location US; reason: notFound, message: Not found: Dataset mgmt467-471819:your_dataset was not found in location US\n",
            "\n",
            "Location: US\n",
            "Job ID: c5930adc-06a2-46f1-b885-fd8d2c8bc680\n",
            "\n"
          ]
        }
      ],
      "source": [
        "\n",
        "# ✅ Train enhanced model\n",
        "%%bigquery --project $project_id\n",
        "CREATE OR REPLACE MODEL `your_dataset.churn_model_enhanced`\n",
        "OPTIONS(model_type='logistic_reg') AS\n",
        "SELECT\n",
        "  region,\n",
        "  plan_tier,\n",
        "  age_band,\n",
        "  watch_time_bucket,\n",
        "  avg_rating,\n",
        "  avg_progress,\n",
        "  num_sessions,\n",
        "  plan_region_combo,\n",
        "  flag_binge,\n",
        "  churn_label\n",
        "FROM `your_dataset.churn_features_enhanced`;\n"
      ]
    },
    {
      "cell_type": "code",
      "execution_count": 9,
      "id": "423b6d00",
      "metadata": {
        "colab": {
          "base_uri": "https://localhost:8080/"
        },
        "id": "423b6d00",
        "outputId": "b212f0e4-2e65-4e34-988c-0f974d0a214a"
      },
      "outputs": [
        {
          "output_type": "stream",
          "name": "stdout",
          "text": [
            "Executing query with job ID: b325735c-facc-47c6-a00d-911bdef7b924\n",
            "\rQuery executing: 0.91s"
          ]
        },
        {
          "output_type": "stream",
          "name": "stderr",
          "text": [
            "\n",
            "ERROR:\n",
            " 404 Not found: Dataset mgmt467-471819:your_dataset was not found in location US; reason: notFound, message: Not found: Dataset mgmt467-471819:your_dataset was not found in location US\n",
            "\n",
            "Location: US\n",
            "Job ID: b325735c-facc-47c6-a00d-911bdef7b924\n",
            "\n"
          ]
        }
      ],
      "source": [
        "\n",
        "# ✅ Evaluate enhanced model\n",
        "%%bigquery --project $project_id\n",
        "SELECT *\n",
        "FROM ML.EVALUATE(MODEL `your_dataset.churn_model_enhanced`);\n"
      ]
    },
    {
      "cell_type": "markdown",
      "id": "bc1a207f",
      "metadata": {
        "id": "bc1a207f"
      },
      "source": [
        "\n",
        "## 🤔 Chain-of-Thought Prompts: Feature Engineering\n",
        "\n",
        "### 1. Why bucket continuous values like watch time?\n",
        "- What patterns become clearer by using categories like \"low\", \"medium\", \"high\"?\n",
        "\n",
        "### 2. What value do interaction terms (e.g., `plan_tier_region`) add?\n",
        "- Could some plans behave differently in different regions?\n",
        "\n",
        "### 3. What’s the purpose of binary flags like `flag_binge`?\n",
        "- Can these capture unique behaviors not reflected in raw totals?\n",
        "\n",
        "### 4. After evaluating the enhanced model:\n",
        "- Which new features helped the most?\n",
        "- Did any surprise you?\n",
        "\n",
        "✍️ Write your responses in a text cell below or in a shared doc for discussion.\n"
      ]
    },
    {
      "cell_type": "markdown",
      "metadata": {
        "id": "2f330f8c"
      },
      "source": [
        "\n",
        "\n",
        "\n",
        "1.  **Bucketing watch time:** Grouping watch time into \"low,\" \"medium,\" and \"high\" can make it easier to see if there are clear differences in churn rates for these distinct groups. It helps simplify complex patterns.\n",
        "\n",
        "2.  **Interaction terms:** Using `plan_tier_region` lets us see if a certain plan works differently in one region compared to another when it comes to keeping users. It captures unique combinations.\n",
        "\n",
        "3.  **Binary flags:** A flag like `flag_binge` helps us identify specific behaviors, like really high watch time, that might be different from just having a lot of total minutes. It highlights unique actions.\n",
        "\n",
        "4.  **After evaluating:** To see which new features were best, you'd need to check the results from evaluating the enhanced model (cell `423b6d00`). Look at the performance metrics and maybe the feature weights to see what made the biggest difference."
      ],
      "id": "2f330f8c"
    }
  ],
  "metadata": {
    "colab": {
      "provenance": []
    },
    "language_info": {
      "name": "python"
    },
    "kernelspec": {
      "name": "python3",
      "display_name": "Python 3"
    },
    "widgets": {
      "application/vnd.jupyter.widget-state+json": {
        "c2ded84a3a7c4a92bdee737bd80f046d": {
          "model_module": "@jupyter-widgets/controls",
          "model_name": "HBoxModel",
          "model_module_version": "1.5.0",
          "state": {
            "_dom_classes": [],
            "_model_module": "@jupyter-widgets/controls",
            "_model_module_version": "1.5.0",
            "_model_name": "HBoxModel",
            "_view_count": null,
            "_view_module": "@jupyter-widgets/controls",
            "_view_module_version": "1.5.0",
            "_view_name": "HBoxView",
            "box_style": "",
            "children": [
              "IPY_MODEL_631080c4b6bd4689adcdd144dbea8798",
              "IPY_MODEL_5f6ba91e3062466c8561d3388a3579c3",
              "IPY_MODEL_2ace3c19aff646bca0d1a9dc84a2ad85"
            ],
            "layout": "IPY_MODEL_076fb021e8824f269531a39fa3c67ef5"
          }
        },
        "631080c4b6bd4689adcdd144dbea8798": {
          "model_module": "@jupyter-widgets/controls",
          "model_name": "HTMLModel",
          "model_module_version": "1.5.0",
          "state": {
            "_dom_classes": [],
            "_model_module": "@jupyter-widgets/controls",
            "_model_module_version": "1.5.0",
            "_model_name": "HTMLModel",
            "_view_count": null,
            "_view_module": "@jupyter-widgets/controls",
            "_view_module_version": "1.5.0",
            "_view_name": "HTMLView",
            "description": "",
            "description_tooltip": null,
            "layout": "IPY_MODEL_c69a0bea05cb48abbea37bff2a25c19c",
            "placeholder": "​",
            "style": "IPY_MODEL_8797da9241dd4634867c58833b3df104",
            "value": "Job ID 9bc312cf-8b0e-4cea-b329-e046d8cc5100 successfully executed: 100%"
          }
        },
        "5f6ba91e3062466c8561d3388a3579c3": {
          "model_module": "@jupyter-widgets/controls",
          "model_name": "FloatProgressModel",
          "model_module_version": "1.5.0",
          "state": {
            "_dom_classes": [],
            "_model_module": "@jupyter-widgets/controls",
            "_model_module_version": "1.5.0",
            "_model_name": "FloatProgressModel",
            "_view_count": null,
            "_view_module": "@jupyter-widgets/controls",
            "_view_module_version": "1.5.0",
            "_view_name": "ProgressView",
            "bar_style": "success",
            "description": "",
            "description_tooltip": null,
            "layout": "IPY_MODEL_eded72fad0c14db598c7d82fa6834722",
            "max": 1,
            "min": 0,
            "orientation": "horizontal",
            "style": "IPY_MODEL_8ca66ef644374fd4b730b9c2e6bf4a0a",
            "value": 1
          }
        },
        "2ace3c19aff646bca0d1a9dc84a2ad85": {
          "model_module": "@jupyter-widgets/controls",
          "model_name": "HTMLModel",
          "model_module_version": "1.5.0",
          "state": {
            "_dom_classes": [],
            "_model_module": "@jupyter-widgets/controls",
            "_model_module_version": "1.5.0",
            "_model_name": "HTMLModel",
            "_view_count": null,
            "_view_module": "@jupyter-widgets/controls",
            "_view_module_version": "1.5.0",
            "_view_name": "HTMLView",
            "description": "",
            "description_tooltip": null,
            "layout": "IPY_MODEL_6bcf1beac4e34155adcf08d1b47d23dd",
            "placeholder": "​",
            "style": "IPY_MODEL_a39e7a62979f4f8dbc76114f6275af57",
            "value": ""
          }
        },
        "076fb021e8824f269531a39fa3c67ef5": {
          "model_module": "@jupyter-widgets/base",
          "model_name": "LayoutModel",
          "model_module_version": "1.2.0",
          "state": {
            "_model_module": "@jupyter-widgets/base",
            "_model_module_version": "1.2.0",
            "_model_name": "LayoutModel",
            "_view_count": null,
            "_view_module": "@jupyter-widgets/base",
            "_view_module_version": "1.2.0",
            "_view_name": "LayoutView",
            "align_content": null,
            "align_items": null,
            "align_self": null,
            "border": null,
            "bottom": null,
            "display": null,
            "flex": null,
            "flex_flow": null,
            "grid_area": null,
            "grid_auto_columns": null,
            "grid_auto_flow": null,
            "grid_auto_rows": null,
            "grid_column": null,
            "grid_gap": null,
            "grid_row": null,
            "grid_template_areas": null,
            "grid_template_columns": null,
            "grid_template_rows": null,
            "height": null,
            "justify_content": null,
            "justify_items": null,
            "left": null,
            "margin": null,
            "max_height": null,
            "max_width": null,
            "min_height": null,
            "min_width": null,
            "object_fit": null,
            "object_position": null,
            "order": null,
            "overflow": null,
            "overflow_x": null,
            "overflow_y": null,
            "padding": null,
            "right": null,
            "top": null,
            "visibility": null,
            "width": null
          }
        },
        "c69a0bea05cb48abbea37bff2a25c19c": {
          "model_module": "@jupyter-widgets/base",
          "model_name": "LayoutModel",
          "model_module_version": "1.2.0",
          "state": {
            "_model_module": "@jupyter-widgets/base",
            "_model_module_version": "1.2.0",
            "_model_name": "LayoutModel",
            "_view_count": null,
            "_view_module": "@jupyter-widgets/base",
            "_view_module_version": "1.2.0",
            "_view_name": "LayoutView",
            "align_content": null,
            "align_items": null,
            "align_self": null,
            "border": null,
            "bottom": null,
            "display": null,
            "flex": null,
            "flex_flow": null,
            "grid_area": null,
            "grid_auto_columns": null,
            "grid_auto_flow": null,
            "grid_auto_rows": null,
            "grid_column": null,
            "grid_gap": null,
            "grid_row": null,
            "grid_template_areas": null,
            "grid_template_columns": null,
            "grid_template_rows": null,
            "height": null,
            "justify_content": null,
            "justify_items": null,
            "left": null,
            "margin": null,
            "max_height": null,
            "max_width": null,
            "min_height": null,
            "min_width": null,
            "object_fit": null,
            "object_position": null,
            "order": null,
            "overflow": null,
            "overflow_x": null,
            "overflow_y": null,
            "padding": null,
            "right": null,
            "top": null,
            "visibility": null,
            "width": null
          }
        },
        "8797da9241dd4634867c58833b3df104": {
          "model_module": "@jupyter-widgets/controls",
          "model_name": "DescriptionStyleModel",
          "model_module_version": "1.5.0",
          "state": {
            "_model_module": "@jupyter-widgets/controls",
            "_model_module_version": "1.5.0",
            "_model_name": "DescriptionStyleModel",
            "_view_count": null,
            "_view_module": "@jupyter-widgets/base",
            "_view_module_version": "1.2.0",
            "_view_name": "StyleView",
            "description_width": ""
          }
        },
        "eded72fad0c14db598c7d82fa6834722": {
          "model_module": "@jupyter-widgets/base",
          "model_name": "LayoutModel",
          "model_module_version": "1.2.0",
          "state": {
            "_model_module": "@jupyter-widgets/base",
            "_model_module_version": "1.2.0",
            "_model_name": "LayoutModel",
            "_view_count": null,
            "_view_module": "@jupyter-widgets/base",
            "_view_module_version": "1.2.0",
            "_view_name": "LayoutView",
            "align_content": null,
            "align_items": null,
            "align_self": null,
            "border": null,
            "bottom": null,
            "display": null,
            "flex": null,
            "flex_flow": null,
            "grid_area": null,
            "grid_auto_columns": null,
            "grid_auto_flow": null,
            "grid_auto_rows": null,
            "grid_column": null,
            "grid_gap": null,
            "grid_row": null,
            "grid_template_areas": null,
            "grid_template_columns": null,
            "grid_template_rows": null,
            "height": null,
            "justify_content": null,
            "justify_items": null,
            "left": null,
            "margin": null,
            "max_height": null,
            "max_width": null,
            "min_height": null,
            "min_width": null,
            "object_fit": null,
            "object_position": null,
            "order": null,
            "overflow": null,
            "overflow_x": null,
            "overflow_y": null,
            "padding": null,
            "right": null,
            "top": null,
            "visibility": null,
            "width": null
          }
        },
        "8ca66ef644374fd4b730b9c2e6bf4a0a": {
          "model_module": "@jupyter-widgets/controls",
          "model_name": "ProgressStyleModel",
          "model_module_version": "1.5.0",
          "state": {
            "_model_module": "@jupyter-widgets/controls",
            "_model_module_version": "1.5.0",
            "_model_name": "ProgressStyleModel",
            "_view_count": null,
            "_view_module": "@jupyter-widgets/base",
            "_view_module_version": "1.2.0",
            "_view_name": "StyleView",
            "bar_color": null,
            "description_width": ""
          }
        },
        "6bcf1beac4e34155adcf08d1b47d23dd": {
          "model_module": "@jupyter-widgets/base",
          "model_name": "LayoutModel",
          "model_module_version": "1.2.0",
          "state": {
            "_model_module": "@jupyter-widgets/base",
            "_model_module_version": "1.2.0",
            "_model_name": "LayoutModel",
            "_view_count": null,
            "_view_module": "@jupyter-widgets/base",
            "_view_module_version": "1.2.0",
            "_view_name": "LayoutView",
            "align_content": null,
            "align_items": null,
            "align_self": null,
            "border": null,
            "bottom": null,
            "display": null,
            "flex": null,
            "flex_flow": null,
            "grid_area": null,
            "grid_auto_columns": null,
            "grid_auto_flow": null,
            "grid_auto_rows": null,
            "grid_column": null,
            "grid_gap": null,
            "grid_row": null,
            "grid_template_areas": null,
            "grid_template_columns": null,
            "grid_template_rows": null,
            "height": null,
            "justify_content": null,
            "justify_items": null,
            "left": null,
            "margin": null,
            "max_height": null,
            "max_width": null,
            "min_height": null,
            "min_width": null,
            "object_fit": null,
            "object_position": null,
            "order": null,
            "overflow": null,
            "overflow_x": null,
            "overflow_y": null,
            "padding": null,
            "right": null,
            "top": null,
            "visibility": null,
            "width": null
          }
        },
        "a39e7a62979f4f8dbc76114f6275af57": {
          "model_module": "@jupyter-widgets/controls",
          "model_name": "DescriptionStyleModel",
          "model_module_version": "1.5.0",
          "state": {
            "_model_module": "@jupyter-widgets/controls",
            "_model_module_version": "1.5.0",
            "_model_name": "DescriptionStyleModel",
            "_view_count": null,
            "_view_module": "@jupyter-widgets/base",
            "_view_module_version": "1.2.0",
            "_view_name": "StyleView",
            "description_width": ""
          }
        },
        "dd6dc0cc564f4c1eb10ca2d13efbe13a": {
          "model_module": "@jupyter-widgets/controls",
          "model_name": "HBoxModel",
          "model_module_version": "1.5.0",
          "state": {
            "_dom_classes": [],
            "_model_module": "@jupyter-widgets/controls",
            "_model_module_version": "1.5.0",
            "_model_name": "HBoxModel",
            "_view_count": null,
            "_view_module": "@jupyter-widgets/controls",
            "_view_module_version": "1.5.0",
            "_view_name": "HBoxView",
            "box_style": "",
            "children": [
              "IPY_MODEL_ad8cda9457e34ebebf4805b4e2b39eac",
              "IPY_MODEL_4ee7546df7fe4f859d298571985abedd",
              "IPY_MODEL_20b7d6ea63f543469392b27b4a46aad6"
            ],
            "layout": "IPY_MODEL_86a03a00c3c848bf8bc89560130e3f4f"
          }
        },
        "ad8cda9457e34ebebf4805b4e2b39eac": {
          "model_module": "@jupyter-widgets/controls",
          "model_name": "HTMLModel",
          "model_module_version": "1.5.0",
          "state": {
            "_dom_classes": [],
            "_model_module": "@jupyter-widgets/controls",
            "_model_module_version": "1.5.0",
            "_model_name": "HTMLModel",
            "_view_count": null,
            "_view_module": "@jupyter-widgets/controls",
            "_view_module_version": "1.5.0",
            "_view_name": "HTMLView",
            "description": "",
            "description_tooltip": null,
            "layout": "IPY_MODEL_9cefb4ee97d6433a8fe57706b2b135b0",
            "placeholder": "​",
            "style": "IPY_MODEL_3649d48a5bad40ebae9dbe92fbdb1b41",
            "value": "Downloading: 100%"
          }
        },
        "4ee7546df7fe4f859d298571985abedd": {
          "model_module": "@jupyter-widgets/controls",
          "model_name": "FloatProgressModel",
          "model_module_version": "1.5.0",
          "state": {
            "_dom_classes": [],
            "_model_module": "@jupyter-widgets/controls",
            "_model_module_version": "1.5.0",
            "_model_name": "FloatProgressModel",
            "_view_count": null,
            "_view_module": "@jupyter-widgets/controls",
            "_view_module_version": "1.5.0",
            "_view_name": "ProgressView",
            "bar_style": "success",
            "description": "",
            "description_tooltip": null,
            "layout": "IPY_MODEL_ce60e34c8f2f4801a2c5fa55bb2702da",
            "max": 1,
            "min": 0,
            "orientation": "horizontal",
            "style": "IPY_MODEL_cb2f5d068e16466d97c98d1891ec5c35",
            "value": 1
          }
        },
        "20b7d6ea63f543469392b27b4a46aad6": {
          "model_module": "@jupyter-widgets/controls",
          "model_name": "HTMLModel",
          "model_module_version": "1.5.0",
          "state": {
            "_dom_classes": [],
            "_model_module": "@jupyter-widgets/controls",
            "_model_module_version": "1.5.0",
            "_model_name": "HTMLModel",
            "_view_count": null,
            "_view_module": "@jupyter-widgets/controls",
            "_view_module_version": "1.5.0",
            "_view_name": "HTMLView",
            "description": "",
            "description_tooltip": null,
            "layout": "IPY_MODEL_41e33d5173bc41bdb35767f4bba9684c",
            "placeholder": "​",
            "style": "IPY_MODEL_e086bfc39f1f4e26ad6be24428a1d9a5",
            "value": ""
          }
        },
        "86a03a00c3c848bf8bc89560130e3f4f": {
          "model_module": "@jupyter-widgets/base",
          "model_name": "LayoutModel",
          "model_module_version": "1.2.0",
          "state": {
            "_model_module": "@jupyter-widgets/base",
            "_model_module_version": "1.2.0",
            "_model_name": "LayoutModel",
            "_view_count": null,
            "_view_module": "@jupyter-widgets/base",
            "_view_module_version": "1.2.0",
            "_view_name": "LayoutView",
            "align_content": null,
            "align_items": null,
            "align_self": null,
            "border": null,
            "bottom": null,
            "display": null,
            "flex": null,
            "flex_flow": null,
            "grid_area": null,
            "grid_auto_columns": null,
            "grid_auto_flow": null,
            "grid_auto_rows": null,
            "grid_column": null,
            "grid_gap": null,
            "grid_row": null,
            "grid_template_areas": null,
            "grid_template_columns": null,
            "grid_template_rows": null,
            "height": null,
            "justify_content": null,
            "justify_items": null,
            "left": null,
            "margin": null,
            "max_height": null,
            "max_width": null,
            "min_height": null,
            "min_width": null,
            "object_fit": null,
            "object_position": null,
            "order": null,
            "overflow": null,
            "overflow_x": null,
            "overflow_y": null,
            "padding": null,
            "right": null,
            "top": null,
            "visibility": null,
            "width": null
          }
        },
        "9cefb4ee97d6433a8fe57706b2b135b0": {
          "model_module": "@jupyter-widgets/base",
          "model_name": "LayoutModel",
          "model_module_version": "1.2.0",
          "state": {
            "_model_module": "@jupyter-widgets/base",
            "_model_module_version": "1.2.0",
            "_model_name": "LayoutModel",
            "_view_count": null,
            "_view_module": "@jupyter-widgets/base",
            "_view_module_version": "1.2.0",
            "_view_name": "LayoutView",
            "align_content": null,
            "align_items": null,
            "align_self": null,
            "border": null,
            "bottom": null,
            "display": null,
            "flex": null,
            "flex_flow": null,
            "grid_area": null,
            "grid_auto_columns": null,
            "grid_auto_flow": null,
            "grid_auto_rows": null,
            "grid_column": null,
            "grid_gap": null,
            "grid_row": null,
            "grid_template_areas": null,
            "grid_template_columns": null,
            "grid_template_rows": null,
            "height": null,
            "justify_content": null,
            "justify_items": null,
            "left": null,
            "margin": null,
            "max_height": null,
            "max_width": null,
            "min_height": null,
            "min_width": null,
            "object_fit": null,
            "object_position": null,
            "order": null,
            "overflow": null,
            "overflow_x": null,
            "overflow_y": null,
            "padding": null,
            "right": null,
            "top": null,
            "visibility": null,
            "width": null
          }
        },
        "3649d48a5bad40ebae9dbe92fbdb1b41": {
          "model_module": "@jupyter-widgets/controls",
          "model_name": "DescriptionStyleModel",
          "model_module_version": "1.5.0",
          "state": {
            "_model_module": "@jupyter-widgets/controls",
            "_model_module_version": "1.5.0",
            "_model_name": "DescriptionStyleModel",
            "_view_count": null,
            "_view_module": "@jupyter-widgets/base",
            "_view_module_version": "1.2.0",
            "_view_name": "StyleView",
            "description_width": ""
          }
        },
        "ce60e34c8f2f4801a2c5fa55bb2702da": {
          "model_module": "@jupyter-widgets/base",
          "model_name": "LayoutModel",
          "model_module_version": "1.2.0",
          "state": {
            "_model_module": "@jupyter-widgets/base",
            "_model_module_version": "1.2.0",
            "_model_name": "LayoutModel",
            "_view_count": null,
            "_view_module": "@jupyter-widgets/base",
            "_view_module_version": "1.2.0",
            "_view_name": "LayoutView",
            "align_content": null,
            "align_items": null,
            "align_self": null,
            "border": null,
            "bottom": null,
            "display": null,
            "flex": null,
            "flex_flow": null,
            "grid_area": null,
            "grid_auto_columns": null,
            "grid_auto_flow": null,
            "grid_auto_rows": null,
            "grid_column": null,
            "grid_gap": null,
            "grid_row": null,
            "grid_template_areas": null,
            "grid_template_columns": null,
            "grid_template_rows": null,
            "height": null,
            "justify_content": null,
            "justify_items": null,
            "left": null,
            "margin": null,
            "max_height": null,
            "max_width": null,
            "min_height": null,
            "min_width": null,
            "object_fit": null,
            "object_position": null,
            "order": null,
            "overflow": null,
            "overflow_x": null,
            "overflow_y": null,
            "padding": null,
            "right": null,
            "top": null,
            "visibility": null,
            "width": null
          }
        },
        "cb2f5d068e16466d97c98d1891ec5c35": {
          "model_module": "@jupyter-widgets/controls",
          "model_name": "ProgressStyleModel",
          "model_module_version": "1.5.0",
          "state": {
            "_model_module": "@jupyter-widgets/controls",
            "_model_module_version": "1.5.0",
            "_model_name": "ProgressStyleModel",
            "_view_count": null,
            "_view_module": "@jupyter-widgets/base",
            "_view_module_version": "1.2.0",
            "_view_name": "StyleView",
            "bar_color": null,
            "description_width": ""
          }
        },
        "41e33d5173bc41bdb35767f4bba9684c": {
          "model_module": "@jupyter-widgets/base",
          "model_name": "LayoutModel",
          "model_module_version": "1.2.0",
          "state": {
            "_model_module": "@jupyter-widgets/base",
            "_model_module_version": "1.2.0",
            "_model_name": "LayoutModel",
            "_view_count": null,
            "_view_module": "@jupyter-widgets/base",
            "_view_module_version": "1.2.0",
            "_view_name": "LayoutView",
            "align_content": null,
            "align_items": null,
            "align_self": null,
            "border": null,
            "bottom": null,
            "display": null,
            "flex": null,
            "flex_flow": null,
            "grid_area": null,
            "grid_auto_columns": null,
            "grid_auto_flow": null,
            "grid_auto_rows": null,
            "grid_column": null,
            "grid_gap": null,
            "grid_row": null,
            "grid_template_areas": null,
            "grid_template_columns": null,
            "grid_template_rows": null,
            "height": null,
            "justify_content": null,
            "justify_items": null,
            "left": null,
            "margin": null,
            "max_height": null,
            "max_width": null,
            "min_height": null,
            "min_width": null,
            "object_fit": null,
            "object_position": null,
            "order": null,
            "overflow": null,
            "overflow_x": null,
            "overflow_y": null,
            "padding": null,
            "right": null,
            "top": null,
            "visibility": null,
            "width": null
          }
        },
        "e086bfc39f1f4e26ad6be24428a1d9a5": {
          "model_module": "@jupyter-widgets/controls",
          "model_name": "DescriptionStyleModel",
          "model_module_version": "1.5.0",
          "state": {
            "_model_module": "@jupyter-widgets/controls",
            "_model_module_version": "1.5.0",
            "_model_name": "DescriptionStyleModel",
            "_view_count": null,
            "_view_module": "@jupyter-widgets/base",
            "_view_module_version": "1.2.0",
            "_view_name": "StyleView",
            "description_width": ""
          }
        }
      }
    }
  },
  "nbformat": 4,
  "nbformat_minor": 5
}